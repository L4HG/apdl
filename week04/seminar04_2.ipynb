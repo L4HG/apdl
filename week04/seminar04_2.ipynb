{
  "nbformat": 4,
  "nbformat_minor": 5,
  "metadata": {
    "colab": {
      "name": "seminar04_2.ipynb",
      "provenance": [],
      "collapsed_sections": [],
      "toc_visible": true
    },
    "kernelspec": {
      "display_name": "Python 3",
      "language": "python",
      "name": "python3"
    },
    "language_info": {
      "codemirror_mode": {
        "name": "ipython",
        "version": 3
      },
      "file_extension": ".py",
      "mimetype": "text/x-python",
      "name": "python",
      "nbconvert_exporter": "python",
      "pygments_lexer": "ipython3",
      "version": "3.8.5"
    },
    "accelerator": "GPU"
  },
  "cells": [
    {
      "cell_type": "code",
      "metadata": {
        "colab": {
          "base_uri": "https://localhost:8080/"
        },
        "id": "searching-rebel",
        "outputId": "d017cc0c-cb64-4db5-afc7-64f31a5c44f2"
      },
      "source": [
        "!pip install torchtext"
      ],
      "id": "searching-rebel",
      "execution_count": 2,
      "outputs": [
        {
          "output_type": "stream",
          "text": [
            "Requirement already satisfied: torchtext in /usr/local/lib/python3.7/dist-packages (0.9.1)\n",
            "Requirement already satisfied: tqdm in /usr/local/lib/python3.7/dist-packages (from torchtext) (4.41.1)\n",
            "Requirement already satisfied: numpy in /usr/local/lib/python3.7/dist-packages (from torchtext) (1.19.5)\n",
            "Requirement already satisfied: requests in /usr/local/lib/python3.7/dist-packages (from torchtext) (2.23.0)\n",
            "Requirement already satisfied: torch==1.8.1 in /usr/local/lib/python3.7/dist-packages (from torchtext) (1.8.1+cu101)\n",
            "Requirement already satisfied: chardet<4,>=3.0.2 in /usr/local/lib/python3.7/dist-packages (from requests->torchtext) (3.0.4)\n",
            "Requirement already satisfied: certifi>=2017.4.17 in /usr/local/lib/python3.7/dist-packages (from requests->torchtext) (2020.12.5)\n",
            "Requirement already satisfied: idna<3,>=2.5 in /usr/local/lib/python3.7/dist-packages (from requests->torchtext) (2.10)\n",
            "Requirement already satisfied: urllib3!=1.25.0,!=1.25.1,<1.26,>=1.21.1 in /usr/local/lib/python3.7/dist-packages (from requests->torchtext) (1.24.3)\n",
            "Requirement already satisfied: typing-extensions in /usr/local/lib/python3.7/dist-packages (from torch==1.8.1->torchtext) (3.7.4.3)\n"
          ],
          "name": "stdout"
        }
      ]
    },
    {
      "cell_type": "code",
      "metadata": {
        "id": "alpine-transmission"
      },
      "source": [
        ""
      ],
      "id": "alpine-transmission",
      "execution_count": 2,
      "outputs": []
    },
    {
      "cell_type": "code",
      "metadata": {
        "id": "changing-electronics"
      },
      "source": [
        "from collections import Counter, defaultdict\n",
        "from itertools import islice\n",
        "from IPython import display\n",
        "from matplotlib import pyplot as plt\n",
        "from tqdm import tqdm\n",
        "\n",
        "import torch\n",
        "from torch import nn\n",
        "from torch.utils.data import DataLoader\n",
        "\n",
        "import torchtext\n",
        "from torchtext.datasets import AG_NEWS\n",
        "from torchtext.data.utils import get_tokenizer\n",
        "from torchtext.vocab import Vocab"
      ],
      "id": "changing-electronics",
      "execution_count": 3,
      "outputs": []
    },
    {
      "cell_type": "code",
      "metadata": {
        "colab": {
          "base_uri": "https://localhost:8080/"
        },
        "id": "sustainable-authority",
        "outputId": "b0ca0962-3bb1-46d9-8ee3-a8202bbabdf1"
      },
      "source": [
        "print(\n",
        "    f'torch.__version__: {torch.__version__}\\n'\n",
        "    f'torchtext.__version__: {torchtext.__version__}',\n",
        ")"
      ],
      "id": "sustainable-authority",
      "execution_count": 4,
      "outputs": [
        {
          "output_type": "stream",
          "text": [
            "torch.__version__: 1.8.1+cu101\n",
            "torchtext.__version__: 0.9.1\n"
          ],
          "name": "stdout"
        }
      ]
    },
    {
      "cell_type": "code",
      "metadata": {
        "colab": {
          "base_uri": "https://localhost:8080/"
        },
        "id": "monetary-cologne",
        "outputId": "953733c8-13af-4dc5-bc02-c0657c3bd137"
      },
      "source": [
        "tokenizer = get_tokenizer('basic_english')\n",
        "train_iter = AG_NEWS(split='train')\n",
        "counter = Counter()"
      ],
      "id": "monetary-cologne",
      "execution_count": 5,
      "outputs": [
        {
          "output_type": "stream",
          "text": [
            "train.csv: 29.5MB [00:00, 86.0MB/s]\n"
          ],
          "name": "stderr"
        }
      ]
    },
    {
      "cell_type": "markdown",
      "metadata": {
        "id": "ceramic-courage"
      },
      "source": [
        "### Let's look on example"
      ],
      "id": "ceramic-courage"
    },
    {
      "cell_type": "code",
      "metadata": {
        "id": "vCaEjV7ulIm2"
      },
      "source": [
        "label, text = next(train_iter)"
      ],
      "id": "vCaEjV7ulIm2",
      "execution_count": 6,
      "outputs": []
    },
    {
      "cell_type": "code",
      "metadata": {
        "colab": {
          "base_uri": "https://localhost:8080/"
        },
        "id": "EbxO2je_lRmf",
        "outputId": "e2c967b8-6f83-4916-f5f1-04fac0e5c76b"
      },
      "source": [
        "label"
      ],
      "id": "EbxO2je_lRmf",
      "execution_count": 7,
      "outputs": [
        {
          "output_type": "execute_result",
          "data": {
            "text/plain": [
              "3"
            ]
          },
          "metadata": {
            "tags": []
          },
          "execution_count": 7
        }
      ]
    },
    {
      "cell_type": "code",
      "metadata": {
        "colab": {
          "base_uri": "https://localhost:8080/",
          "height": 36
        },
        "id": "sAulEluolTst",
        "outputId": "c7ac6246-15c7-4251-d4ed-f347affaa8c6"
      },
      "source": [
        "text"
      ],
      "id": "sAulEluolTst",
      "execution_count": 8,
      "outputs": [
        {
          "output_type": "execute_result",
          "data": {
            "application/vnd.google.colaboratory.intrinsic+json": {
              "type": "string"
            },
            "text/plain": [
              "\"Wall St. Bears Claw Back Into the Black (Reuters) Reuters - Short-sellers, Wall Street's dwindling\\\\band of ultra-cynics, are seeing green again.\""
            ]
          },
          "metadata": {
            "tags": []
          },
          "execution_count": 8
        }
      ]
    },
    {
      "cell_type": "markdown",
      "metadata": {
        "id": "m4uuTCBASDli"
      },
      "source": [
        "### Build Vocabulary and download correspong word embeddings"
      ],
      "id": "m4uuTCBASDli"
    },
    {
      "cell_type": "code",
      "metadata": {
        "id": "caring-causing"
      },
      "source": [
        "for (label, line) in AG_NEWS(split='train'):\n",
        "    counter.update(tokenizer(line))\n",
        "\n",
        "vocab = Vocab(counter, min_freq=100)"
      ],
      "id": "caring-causing",
      "execution_count": 9,
      "outputs": []
    },
    {
      "cell_type": "code",
      "metadata": {
        "colab": {
          "base_uri": "https://localhost:8080/"
        },
        "id": "minimal-christmas",
        "outputId": "e5b70ca2-ec52-4980-9c3c-59d0cbf3ab0d"
      },
      "source": [
        "vocab.load_vectors('glove.6B.50d')"
      ],
      "id": "minimal-christmas",
      "execution_count": 10,
      "outputs": [
        {
          "output_type": "stream",
          "text": [
            ".vector_cache/glove.6B.zip: 862MB [02:43, 5.27MB/s]                           \n",
            "100%|█████████▉| 399802/400000 [00:12<00:00, 31950.00it/s]"
          ],
          "name": "stderr"
        }
      ]
    },
    {
      "cell_type": "code",
      "metadata": {
        "id": "FwW0INO1BTk-"
      },
      "source": [
        "text_pipeline = lambda x: [vocab[token] for token in tokenizer(x)]\n",
        "label_pipeline = lambda x: int(x) - 1"
      ],
      "id": "FwW0INO1BTk-",
      "execution_count": 11,
      "outputs": []
    },
    {
      "cell_type": "code",
      "metadata": {
        "id": "pWhPIY8_muo6"
      },
      "source": [
        ""
      ],
      "id": "pWhPIY8_muo6",
      "execution_count": 11,
      "outputs": []
    },
    {
      "cell_type": "markdown",
      "metadata": {
        "id": "AeQsfk94PO4V"
      },
      "source": [
        "## Prepare data"
      ],
      "id": "AeQsfk94PO4V"
    },
    {
      "cell_type": "code",
      "metadata": {
        "id": "-BMcgU1GnR3Z"
      },
      "source": [
        "class Collator:\n",
        "\n",
        "    def __init__(self, padding_value: int = 0):\n",
        "        self.padding_value = padding_value\n",
        "\n",
        "    def __call__(self, instances):\n",
        "        max_length = 0\n",
        "        labels = []\n",
        "        raw_texts = []\n",
        "\n",
        "        for label, text in instances:\n",
        "            labels.append(label_pipeline(label))\n",
        "            raw_texts.append(text_pipeline(text))\n",
        "\n",
        "            max_length = max(max_length, len(raw_texts[-1]))\n",
        "\n",
        "        labels = torch.tensor(labels).long()\n",
        "\n",
        "        texts = torch.zeros(len(instances), max_length).long().fill_(self.padding_value)\n",
        "        text_lengths = torch.zeros(len(instances)).long()\n",
        "        for i, text in enumerate(raw_texts):\n",
        "            texts[i, :len(text)] = torch.tensor(text).long()\n",
        "            text_lengths[i] = len(text)\n",
        "        \n",
        "        return labels, texts, text_lengths"
      ],
      "id": "-BMcgU1GnR3Z",
      "execution_count": 12,
      "outputs": []
    },
    {
      "cell_type": "code",
      "metadata": {
        "id": "AeRoab1YnRmP"
      },
      "source": [
        "train_iter = AG_NEWS(split='train')\n",
        "collator = Collator(padding_value=vocab.stoi['<pad>'])"
      ],
      "id": "AeRoab1YnRmP",
      "execution_count": 13,
      "outputs": []
    },
    {
      "cell_type": "markdown",
      "metadata": {
        "id": "unlike-strap"
      },
      "source": [
        "### Gather two examples into batch"
      ],
      "id": "unlike-strap"
    },
    {
      "cell_type": "code",
      "metadata": {
        "id": "QgRi6NIhAjAS"
      },
      "source": [
        "labels, texts, text_lengths = collator([next(train_iter), next(train_iter)])"
      ],
      "id": "QgRi6NIhAjAS",
      "execution_count": 14,
      "outputs": []
    },
    {
      "cell_type": "code",
      "metadata": {
        "colab": {
          "base_uri": "https://localhost:8080/"
        },
        "id": "clear-bahrain",
        "outputId": "f8bb21eb-d743-4c29-96ff-998e72e0e504"
      },
      "source": [
        "labels, texts, text_lengths"
      ],
      "id": "clear-bahrain",
      "execution_count": 15,
      "outputs": [
        {
          "output_type": "execute_result",
          "data": {
            "text/plain": [
              "(tensor([2, 2]),\n",
              " tensor([[ 432,  426,    2, 1606,    0,  114,   67,    3,  849,   14,   28,   15,\n",
              "            28,   16,    0,    4,  432,  375,   17,   10,    0,    7,    0,    4,\n",
              "            43, 4010,  784,  326,    2,    1,    1,    1,    1,    1,    1,    1,\n",
              "             1,    1,    1,    1,    1,    1],\n",
              "         [   0, 1073,  855, 1311, 4251,   14,   28,   15,   28,   16,  930,  798,\n",
              "           321,    0,   99,    4,    0,   29,    6, 4460,   12,  565,    0,    9,\n",
              "             0, 2126,    8,    3,  526,  242,    4,   29, 3891,    0,    0,   11,\n",
              "           207,  360,    7,    3,  127,    2]]),\n",
              " tensor([29, 42]))"
            ]
          },
          "metadata": {
            "tags": []
          },
          "execution_count": 15
        }
      ]
    },
    {
      "cell_type": "code",
      "metadata": {
        "id": "HtQ6gaASTj-D"
      },
      "source": [
        "BATCH_SIZE = 64\n",
        "\n",
        "collator = Collator(padding_value=vocab.stoi['<pad>'])"
      ],
      "id": "HtQ6gaASTj-D",
      "execution_count": 34,
      "outputs": []
    },
    {
      "cell_type": "markdown",
      "metadata": {
        "id": "champion-alexandria",
        "outputId": "49d261ca-c0fd-4f57-e4fb-3027f48e194f"
      },
      "source": [
        "## Conv+Attention Model"
      ],
      "id": "champion-alexandria"
    },
    {
      "cell_type": "code",
      "metadata": {
        "id": "sunset-gothic"
      },
      "source": [
        "from typing import Tuple"
      ],
      "id": "sunset-gothic",
      "execution_count": 35,
      "outputs": []
    },
    {
      "cell_type": "code",
      "metadata": {
        "id": "swiss-organic"
      },
      "source": [
        "from torch import nn\n",
        "\n",
        "class ConvAttentionModel(nn.Module):\n",
        "\n",
        "    def __init__(\n",
        "        self,\n",
        "        num_class: int,\n",
        "        input_dim: int = 50,\n",
        "        hidden_dim: int = 128,\n",
        "        kernel_sizes: Tuple[int] = (3, 5, 7),\n",
        "        embeddings: torch.Tensor = None,\n",
        "        num_embeddings: int = None\n",
        "    ):\n",
        "        super().__init__()\n",
        "        \n",
        "        # Load pretrained word embeddigs or init random\n",
        "        if embeddings is not None:\n",
        "            self.embeddings = nn.Embedding.from_pretrained(embeddings)\n",
        "        else:\n",
        "            assert num_embeddings is not None\n",
        "            self.embeddings = nn.Embedding(num_embeddings, input_dim)\n",
        "        \n",
        "        # Convs\n",
        "        convs = [\n",
        "            nn.Conv1d(input_dim, hidden_dim, kernel_size=kernel_size, padding=kernel_size // 2)\n",
        "            for kernel_size in kernel_sizes\n",
        "        ]\n",
        "        self.convs = nn.ModuleList(convs)\n",
        "        self.projection = nn.Conv1d(hidden_dim * len(kernel_sizes), hidden_dim, kernel_size=1)\n",
        "\n",
        "        # Attention (aka Bahdanau attention)\n",
        "        self.energy = nn.Sequential(\n",
        "            nn.Linear(hidden_dim, hidden_dim),\n",
        "            nn.Tanh(),\n",
        "            nn.Linear(hidden_dim, 1)\n",
        "        )\n",
        "        \n",
        "        # Classifier\n",
        "        self.clf = nn.Linear(hidden_dim, num_class)\n",
        "    \n",
        "    @staticmethod\n",
        "    def get_padding_mask(lengths: torch.Tensor) -> torch.Tensor:\n",
        "        max_length = torch.max(lengths).item()\n",
        "        \n",
        "        # padding elements are indicated by `True`\n",
        "        mask = (\n",
        "            torch.arange(max_length, device=lengths.device)\n",
        "            .ge(lengths.view(-1, 1))\n",
        "            .contiguous()\n",
        "            .bool()\n",
        "        )\n",
        "\n",
        "        return mask\n",
        "\n",
        "    \n",
        "    def forward(self, input, lengths = None):\n",
        "        # input.shape == [B, T]\n",
        "        input = self.embeddings(input)\n",
        "        \n",
        "        # input.shape == [B, input_dim, T]\n",
        "        input = input.transpose(-1, -2)\n",
        "\n",
        "        # Convs\n",
        "        conv_logits = []\n",
        "        for conv_module in self.convs:\n",
        "            conv_logits.append(\n",
        "                conv_module(input)\n",
        "            )\n",
        "        \n",
        "        # Concat along features\n",
        "        # conv_logits.shape == [B, hidden_dim * len(kernel_sizes), T]\n",
        "        conv_logits = torch.cat(conv_logits, dim=1)\n",
        "        \n",
        "        # conv_logits.shape == [B, hidden_dim, T]\n",
        "        conv_logits = self.projection(conv_logits)\n",
        "        \n",
        "        # Attention Pooling\n",
        "        # energies.shape == [B, T, 1]\n",
        "        energies = self.energy(conv_logits.transpose(-1, -2))\n",
        "        \n",
        "        # Sentences have different length\n",
        "        # so we need to mask padding `energies` before softmax\n",
        "        if lengths is not None:\n",
        "            padding_mask = self.get_padding_mask(lengths)\n",
        "            energies = energies.masked_fill(\n",
        "                padding_mask.unsqueeze(dim=-1),\n",
        "                value=float('-inf')\n",
        "            )\n",
        "            \n",
        "        prob_energies = torch.softmax(energies, dim=-2)\n",
        "        output = (conv_logits * prob_energies.transpose(-1, -2)).sum(dim=-1)\n",
        "        logits = self.clf(output)\n",
        "        \n",
        "        return logits"
      ],
      "id": "swiss-organic",
      "execution_count": 36,
      "outputs": []
    },
    {
      "cell_type": "markdown",
      "metadata": {
        "id": "handed-horse"
      },
      "source": [
        "## Training"
      ],
      "id": "handed-horse"
    },
    {
      "cell_type": "code",
      "metadata": {
        "id": "pleased-commissioner"
      },
      "source": [
        "class AverageMeter:\n",
        "    \n",
        "    def __init__(self):\n",
        "        self.reset()\n",
        "\n",
        "    def reset(self):\n",
        "        self.val = 0\n",
        "        self.avg = 0\n",
        "        self.sum = 0\n",
        "        self.count = 0\n",
        "\n",
        "    def update(self, val, n=1):\n",
        "        self.val = val\n",
        "        self.sum += val * n\n",
        "        self.count += n\n",
        "        self.avg = self.sum / self.count"
      ],
      "id": "pleased-commissioner",
      "execution_count": 37,
      "outputs": []
    },
    {
      "cell_type": "code",
      "metadata": {
        "id": "sixth-phase"
      },
      "source": [
        "NUM_EPOCH = 10\n",
        "DEVICE = torch.device('cuda') if torch.cuda.is_available() else torch.device('cpu')\n",
        "\n",
        "model = ConvAttentionModel(num_class=10, embeddings=vocab.vectors).to(DEVICE)\n",
        "criterion = nn.CrossEntropyLoss()\n",
        "optimizer = torch.optim.Adam(model.parameters())\n",
        "\n",
        "history = defaultdict(list)"
      ],
      "id": "sixth-phase",
      "execution_count": 41,
      "outputs": []
    },
    {
      "cell_type": "code",
      "metadata": {
        "id": "hearing-extension"
      },
      "source": [
        ""
      ],
      "id": "hearing-extension",
      "execution_count": 41,
      "outputs": []
    },
    {
      "cell_type": "code",
      "metadata": {
        "colab": {
          "base_uri": "https://localhost:8080/",
          "height": 444
        },
        "id": "swedish-roman",
        "outputId": "2f06dfae-e427-437f-c294-579da1ce26cc"
      },
      "source": [
        "for epoch in range(NUM_EPOCH):\n",
        "    train_accuracy_meters = AverageMeter()\n",
        "\n",
        "    # Adhoc since `AG_NEWS` return generator\n",
        "    train_dataloader = DataLoader(\n",
        "        AG_NEWS(split='train'),\n",
        "        batch_size=BATCH_SIZE,\n",
        "        collate_fn=collator\n",
        "    )\n",
        "\n",
        "    model.train()\n",
        "    for labels, texts, text_lengths in train_dataloader:\n",
        "        labels = labels.to(DEVICE)\n",
        "        texts = texts.to(DEVICE)\n",
        "        text_lengths = text_lengths.to(DEVICE)\n",
        "        \n",
        "        logits = model(texts, text_lengths)\n",
        "        loss = criterion(logits, labels)\n",
        "        \n",
        "        optimizer.zero_grad()\n",
        "        loss.backward()\n",
        "        optimizer.step()\n",
        "        \n",
        "        train_accuracy_meters.update(\n",
        "            (logits.argmax(dim=-1) == labels).float().mean().item()\n",
        "        )\n",
        "    \n",
        "    history['train_accuracy'].append(train_accuracy_meters.avg)\n",
        "        \n",
        "    val_accuracy_meter = AverageMeter()\n",
        "    val_dataloader = DataLoader(\n",
        "        AG_NEWS(split='test'),\n",
        "        batch_size=BATCH_SIZE,\n",
        "        collate_fn=collator\n",
        "    )\n",
        "    \n",
        "    model.eval()\n",
        "    for labels, texts, text_lengths in val_dataloader:\n",
        "        labels = labels.to(DEVICE)\n",
        "        texts = texts.to(DEVICE)\n",
        "        text_lengths = text_lengths.to(DEVICE)\n",
        "        \n",
        "        with torch.no_grad():\n",
        "            logits = model(texts, text_lengths)\n",
        "        \n",
        "        val_accuracy_meter.update(\n",
        "            (logits.argmax(dim=-1) == labels).float().mean().item()\n",
        "        )\n",
        "    \n",
        "    history['val_accuracy'].append(val_accuracy_meter.avg)\n",
        "    \n",
        "    display.clear_output()\n",
        "    fig, axis = plt.subplots(1, 2, figsize=(14, 7))\n",
        "    axis[0].plot(history['train_accuracy'])\n",
        "    axis[0].set_title('Train Accuracy')\n",
        "    \n",
        "    axis[1].plot(history['val_accuracy'])\n",
        "    axis[1].set_title('Val Accuracy')\n",
        "    plt.show()"
      ],
      "id": "swedish-roman",
      "execution_count": 42,
      "outputs": [
        {
          "output_type": "display_data",
          "data": {
            "image/png": "[encoded data removed]",
            "text/plain": [
              "<Figure size 1008x504 with 2 Axes>"
            ]
          },
          "metadata": {
            "tags": [],
            "needs_background": "light"
          }
        }
      ]
    },
    {
      "cell_type": "code",
      "metadata": {
        "id": "_FiBLJ8Ov0jM"
      },
      "source": [
        ""
      ],
      "id": "_FiBLJ8Ov0jM",
      "execution_count": null,
      "outputs": []
    }
  ]
}