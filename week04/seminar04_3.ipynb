{
 "cells": [
  {
   "cell_type": "markdown",
   "metadata": {
    "id": "ffuHOST6CsLm"
   },
   "source": [
    "# Language Modeling\n",
    "\n",
    "In this seminar we will train LM on a collection of names and try to generate new names"
   ]
  },
  {
   "cell_type": "code",
   "execution_count": 1,
   "metadata": {},
   "outputs": [],
   "source": [
    "from collections import defaultdict\n",
    "from matplotlib import pyplot as plt\n",
    "from IPython import display\n",
    "from itertools import islice\n",
    "\n",
    "import torch\n",
    "from torch import nn\n",
    "from torch.utils.data import DataLoader, Dataset"
   ]
  },
  {
   "cell_type": "markdown",
   "metadata": {
    "id": "mTT2uW5xCsLu"
   },
   "source": [
    "## Load data\n",
    "The dataset contains ~8k names from different cultures, all in latin transcript.\n",
    "\n",
    "This notebook has been designed so as to allow you to quickly swap names for something similar: deep learning article titles, IKEA furniture, pokemon names, etc."
   ]
  },
  {
   "cell_type": "code",
   "execution_count": 3,
   "metadata": {
    "ExecuteTime": {
     "end_time": "2018-08-13T20:26:42.701832Z",
     "start_time": "2018-08-13T20:26:42.697766Z"
    },
    "id": "dhFyOX6PCsLv"
   },
   "outputs": [],
   "source": [
    "# so that the network knows that we're generating a first token\n",
    "start_token = \"<SOS>\"\n",
    "stop_token = \"<EOS>\"\n",
    "\n",
    "# this is the token for padding,\n",
    "# we will add fake pad token at the end of names \n",
    "# to make them of equal size for further batching\n",
    "pad_token = \"<PAD>\"\n",
    "\n",
    "with open(\"names.txt\") as f:\n",
    "    names = f.read()[:-1].split('\\n')\n",
    "    names = [name.lower() for name in names]"
   ]
  },
  {
   "cell_type": "code",
   "execution_count": 5,
   "metadata": {
    "ExecuteTime": {
     "end_time": "2018-08-13T20:26:42.707885Z",
     "start_time": "2018-08-13T20:26:42.703302Z"
    },
    "id": "Kf43mc6CCsLv"
   },
   "outputs": [
    {
     "name": "stdout",
     "output_type": "stream",
     "text": [
      "number of samples: 7944\n",
      "abagael\n",
      "claresta\n",
      "glory\n",
      "liliane\n",
      "prissie\n",
      "geeta\n",
      "giovanne\n",
      "piggy\n"
     ]
    }
   ],
   "source": [
    "print('number of samples:', len(names))\n",
    "for x in names[::1000]:\n",
    "    print(x)"
   ]
  },
  {
   "cell_type": "code",
   "execution_count": 6,
   "metadata": {
    "ExecuteTime": {
     "end_time": "2018-08-13T20:26:42.857411Z",
     "start_time": "2018-08-13T20:26:42.709371Z"
    },
    "id": "72rNxCG9CsLv"
   },
   "outputs": [
    {
     "name": "stdout",
     "output_type": "stream",
     "text": [
      "max length: 15\n"
     ]
    },
    {
     "data": {
      "image/png": "[encoded data removed]",
      "text/plain": [
       "<Figure size 432x288 with 1 Axes>"
      ]
     },
     "metadata": {
      "needs_background": "light"
     },
     "output_type": "display_data"
    }
   ],
   "source": [
    "MAX_LENGTH = max(map(len, names))\n",
    "print(\"max length:\", MAX_LENGTH)\n",
    "\n",
    "plt.title('Sequence length distribution')\n",
    "plt.hist(list(map(len, names)), bins=25);"
   ]
  },
  {
   "cell_type": "markdown",
   "metadata": {
    "id": "T3VEZIuHCsLv"
   },
   "source": [
    "## Text processing\n",
    "\n",
    "First we need to collect a \"vocabulary\" of all unique tokens i.e. unique characters. We can then encode inputs as a sequence of character ids."
   ]
  },
  {
   "cell_type": "code",
   "execution_count": 8,
   "metadata": {
    "ExecuteTime": {
     "end_time": "2018-08-13T20:26:42.864592Z",
     "start_time": "2018-08-13T20:26:42.858725Z"
    },
    "id": "CLCx5pkcCsLw"
   },
   "outputs": [
    {
     "name": "stdout",
     "output_type": "stream",
     "text": [
      "num_tokens =  32\n"
     ]
    }
   ],
   "source": [
    "tokens = set([\n",
    "    c\n",
    "    for name in names\n",
    "    for c in name\n",
    "])\n",
    "tokens = list(tokens)\n",
    "tokens.extend([start_token, pad_token, stop_token])\n",
    "\n",
    "num_tokens = len(tokens)\n",
    "print ('num_tokens = ', num_tokens)"
   ]
  },
  {
   "cell_type": "code",
   "execution_count": 9,
   "metadata": {},
   "outputs": [],
   "source": [
    "# tokens"
   ]
  },
  {
   "cell_type": "code",
   "execution_count": 14,
   "metadata": {
    "ExecuteTime": {
     "end_time": "2018-08-13T20:26:42.870330Z",
     "start_time": "2018-08-13T20:26:42.866135Z"
    },
    "id": "9AxRKAp0CsLx"
   },
   "outputs": [],
   "source": [
    "token2index = {token: index for index, token in enumerate(tokens)}\n",
    "index2token = {index: token for token, index in token2index.items()}"
   ]
  },
  {
   "cell_type": "code",
   "execution_count": 15,
   "metadata": {},
   "outputs": [],
   "source": [
    "tokenizer = lambda name: [token2index[c] for c in name]\n",
    "decoding = lambda x: \"\".join([index2token[i] for i in x])"
   ]
  },
  {
   "cell_type": "code",
   "execution_count": 16,
   "metadata": {
    "ExecuteTime": {
     "end_time": "2018-08-13T20:26:42.883107Z",
     "start_time": "2018-08-13T20:26:42.877186Z"
    },
    "id": "kyBkrX0BCsLx"
   },
   "outputs": [],
   "source": [
    "assert decoding(tokenizer('adgfdfknsa')) == 'adgfdfknsa'"
   ]
  },
  {
   "cell_type": "code",
   "execution_count": 17,
   "metadata": {},
   "outputs": [],
   "source": [
    "class NameDataset(Dataset):\n",
    "    \n",
    "    def __init__(self, names):\n",
    "        self.names = names\n",
    "    \n",
    "    def __getitem__(self, index):\n",
    "        return tokenizer(self.names[index])\n",
    "    \n",
    "    def __len__(self):\n",
    "        return len(self.names)"
   ]
  },
  {
   "cell_type": "code",
   "execution_count": 18,
   "metadata": {},
   "outputs": [],
   "source": [
    "class Collator:\n",
    "    \n",
    "    def __init__(self, pad_value, sos_value, eos_value):\n",
    "        self.pad_value = pad_value\n",
    "        self.sos_value = sos_value\n",
    "        self.eos_value = eos_value\n",
    "    \n",
    "    def __call__(self, names):\n",
    "        max_length = 0\n",
    "        lengths = []\n",
    "        \n",
    "        for name in names:\n",
    "            max_length = max(max_length, len(name))\n",
    "            lengths.append(len(name) + 2)\n",
    "\n",
    "        output = torch.zeros(len(names), max_length + 2).long().fill_(self.pad_value)\n",
    "        for i, name in enumerate(names):\n",
    "            output[i, 0] = self.sos_value\n",
    "            output[i, 1:1 + len(name)] = torch.tensor(name)\n",
    "            output[i, 1 + len(name)] = self.eos_value\n",
    "        \n",
    "        return output, torch.tensor(lengths).long()"
   ]
  },
  {
   "cell_type": "code",
   "execution_count": 19,
   "metadata": {},
   "outputs": [],
   "source": [
    "dataset = NameDataset(names)"
   ]
  },
  {
   "cell_type": "code",
   "execution_count": 20,
   "metadata": {},
   "outputs": [],
   "source": [
    "collator = Collator(\n",
    "    pad_value=token2index[pad_token],\n",
    "    sos_value=token2index[start_token],\n",
    "    eos_value=token2index[stop_token]\n",
    ")\n",
    "dataloader = DataLoader(dataset, batch_size=32, collate_fn=collator)"
   ]
  },
  {
   "cell_type": "code",
   "execution_count": 21,
   "metadata": {},
   "outputs": [
    {
     "data": {
      "text/plain": [
       "(tensor([[29, 24, 26, 24, 11, 24,  2, 13, 31, 30],\n",
       "         [29, 24, 26, 24, 11, 24, 27, 13, 31, 30],\n",
       "         [29, 24, 26, 26,  2, 31, 30, 30, 30, 30],\n",
       "         [29, 24, 26, 26,  2, 18, 31, 30, 30, 30],\n",
       "         [29, 24, 26, 26, 27, 31, 30, 30, 30, 30],\n",
       "         [29, 24, 26, 26, 27,  2, 31, 30, 30, 30],\n",
       "         [29, 24, 26, 26, 18, 31, 30, 30, 30, 30],\n",
       "         [29, 24, 26, 27, 11, 24,  2, 13, 31, 30],\n",
       "         [29, 24, 26, 27, 11, 24, 27, 13, 31, 30],\n",
       "         [29, 24, 26, 27, 11, 24, 13,  2, 31, 30],\n",
       "         [29, 24, 26,  9, 24, 31, 30, 30, 30, 30],\n",
       "         [29, 24, 10, 24, 10, 27, 24, 31, 30, 30],\n",
       "         [29, 24, 23, 24, 31, 30, 30, 30, 30, 30],\n",
       "         [29, 24, 23, 24,  4, 31, 30, 30, 30, 30],\n",
       "         [29, 24, 23, 24, 13, 27, 16,  2, 31, 30],\n",
       "         [29, 24, 23, 24,  9, 24, 31, 30, 30, 30],\n",
       "         [29, 24, 23, 23, 27,  2, 31, 30, 30, 30],\n",
       "         [29, 24, 23, 23, 27, 21, 31, 30, 30, 30],\n",
       "         [29, 24, 23,  2, 13, 31, 30, 30, 30, 30],\n",
       "         [29, 24, 23,  2, 13, 24, 31, 30, 30, 30],\n",
       "         [29, 24, 23,  2, 13, 24, 27, 23,  2, 31],\n",
       "         [29, 24, 23,  2, 13,  2, 31, 30, 30, 30],\n",
       "         [29, 24, 23,  2, 13, 27, 10,  2, 31, 30],\n",
       "         [29, 24, 23,  2, 13, 27, 16, 24, 31, 30],\n",
       "         [29, 24, 23,  2, 13, 27, 16, 23, 31, 30],\n",
       "         [29, 24, 23,  2, 13, 27, 16,  2, 31, 30],\n",
       "         [29, 24, 23,  2, 13, 13, 24, 31, 30, 30],\n",
       "         [29, 24, 23,  2, 13, 13,  2, 31, 30, 30],\n",
       "         [29, 24, 23,  2, 16, 24, 31, 30, 30, 30],\n",
       "         [29, 24, 23,  2, 18, 31, 30, 30, 30, 30],\n",
       "         [29, 24, 23, 27, 31, 30, 30, 30, 30, 30],\n",
       "         [29, 24, 23, 27, 24, 16, 24, 31, 30, 30]]),\n",
       " tensor([ 9,  9,  6,  7,  6,  7,  6,  9,  9,  9,  6,  8,  5,  6,  9,  7,  7,  7,\n",
       "          6,  7, 10,  7,  9,  9,  9,  9,  8,  8,  7,  6,  5,  8]))"
      ]
     },
     "execution_count": 21,
     "metadata": {},
     "output_type": "execute_result"
    }
   ],
   "source": [
    "list(islice(dataloader, 1))[0]"
   ]
  },
  {
   "cell_type": "code",
   "execution_count": 22,
   "metadata": {},
   "outputs": [
    {
     "data": {
      "text/plain": [
       "'<SOS>abagail<EOS><PAD>'"
      ]
     },
     "execution_count": 22,
     "metadata": {},
     "output_type": "execute_result"
    }
   ],
   "source": [
    "decoding(list(islice(dataloader, 1))[0][0][1].tolist())"
   ]
  },
  {
   "cell_type": "code",
   "execution_count": 24,
   "metadata": {},
   "outputs": [
    {
     "data": {
      "text/plain": [
       "'<SOS>abbe<EOS><PAD><PAD><PAD><PAD>'"
      ]
     },
     "execution_count": 24,
     "metadata": {},
     "output_type": "execute_result"
    }
   ],
   "source": [
    "decoding(list(islice(dataloader, 1))[0][0][2].tolist())"
   ]
  },
  {
   "cell_type": "markdown",
   "metadata": {},
   "source": [
    "## Model"
   ]
  },
  {
   "cell_type": "code",
   "execution_count": 26,
   "metadata": {},
   "outputs": [],
   "source": [
    "class NeuralLM(nn.Module):\n",
    "    \n",
    "    def __init__(\n",
    "        self,\n",
    "        num_embeddings : int,\n",
    "        embedding_dim : int,\n",
    "        padding_index: int,\n",
    "        hidden_dim: int\n",
    "    ):\n",
    "        super().__init__()\n",
    "        \n",
    "        self.embedding = nn.Embedding(num_embeddings, embedding_dim=embedding_dim, padding_idx=padding_index)\n",
    "        self.rnn = nn.LSTM(embedding_dim, hidden_dim, batch_first=True)\n",
    "        self.clf = nn.Linear(hidden_dim, embedding_dim)\n",
    "        \n",
    "    def forward(self, input):\n",
    "        embeddings = self.embedding(input)\n",
    "        output, _ = self.rnn(embeddings)\n",
    "        logits = self.clf(output)\n",
    "        return logits"
   ]
  },
  {
   "cell_type": "code",
   "execution_count": 27,
   "metadata": {},
   "outputs": [
    {
     "data": {
      "text/plain": [
       "NeuralLM(\n",
       "  (embedding): Embedding(32, 32, padding_idx=30)\n",
       "  (rnn): LSTM(32, 64, batch_first=True)\n",
       "  (clf): Linear(in_features=64, out_features=32, bias=True)\n",
       ")"
      ]
     },
     "execution_count": 27,
     "metadata": {},
     "output_type": "execute_result"
    }
   ],
   "source": [
    "model = NeuralLM(len(token2index), 32, token2index[pad_token], 64)\n",
    "model"
   ]
  },
  {
   "cell_type": "markdown",
   "metadata": {
    "id": "xs6EJtCyCsL0"
   },
   "source": [
    "## Training"
   ]
  },
  {
   "cell_type": "code",
   "execution_count": 28,
   "metadata": {},
   "outputs": [],
   "source": [
    "class AverageMeter:\n",
    "    \n",
    "    def __init__(self):\n",
    "        self.reset()\n",
    "\n",
    "    def reset(self):\n",
    "        self.val = 0\n",
    "        self.avg = 0\n",
    "        self.sum = 0\n",
    "        self.count = 0\n",
    "\n",
    "    def update(self, val, n=1):\n",
    "        self.val = val\n",
    "        self.sum += val * n\n",
    "        self.count += n\n",
    "        self.avg = self.sum / self.count"
   ]
  },
  {
   "cell_type": "code",
   "execution_count": 29,
   "metadata": {},
   "outputs": [],
   "source": [
    "NUM_EPOCH = 10\n",
    "DEVICE = torch.device('cuda') if torch.cuda.is_available() else torch.device('cpu')\n",
    "\n",
    "model = NeuralLM(len(token2index), 32, token2index[pad_token], 128).to(DEVICE)\n",
    "criterion = nn.CrossEntropyLoss(ignore_index=token2index[pad_token])\n",
    "optimizer = torch.optim.Adam(model.parameters())\n",
    "\n",
    "history = defaultdict(list)"
   ]
  },
  {
   "cell_type": "code",
   "execution_count": 30,
   "metadata": {},
   "outputs": [
    {
     "name": "stdout",
     "output_type": "stream",
     "text": [
      "Train loss at 0 epoch: 2.6590297375338143\n",
      "Train loss at 1 epoch: 2.3692634919561057\n",
      "Train loss at 2 epoch: 2.283340691083885\n",
      "Train loss at 3 epoch: 2.2283065850476182\n",
      "Train loss at 4 epoch: 2.1865232062627036\n",
      "Train loss at 5 epoch: 2.1516691374491494\n",
      "Train loss at 6 epoch: 2.1213435006428916\n",
      "Train loss at 7 epoch: 2.0942566351718215\n",
      "Train loss at 8 epoch: 2.069476763407389\n",
      "Train loss at 9 epoch: 2.0464242672824478\n",
      "Train loss at 10 epoch: 2.0247821338684204\n",
      "Train loss at 11 epoch: 2.004177553586692\n",
      "Train loss at 12 epoch: 1.9844787297957394\n",
      "Train loss at 13 epoch: 1.9655722944612004\n",
      "Train loss at 14 epoch: 1.9474588986860222\n",
      "Train loss at 15 epoch: 1.9300515599040142\n",
      "Train loss at 16 epoch: 1.91341442707552\n",
      "Train loss at 17 epoch: 1.8975537680239083\n",
      "Train loss at 18 epoch: 1.8820934377042164\n",
      "Train loss at 19 epoch: 1.867173293029448\n",
      "Train loss at 20 epoch: 1.852798933963699\n",
      "Train loss at 21 epoch: 1.8387410300802514\n",
      "Train loss at 22 epoch: 1.82504554493839\n",
      "Train loss at 23 epoch: 1.8118234532903954\n",
      "Train loss at 24 epoch: 1.7989978163117863\n",
      "Train loss at 25 epoch: 1.7866138727310672\n",
      "Train loss at 26 epoch: 1.774723679665102\n",
      "Train loss at 27 epoch: 1.7633239734603698\n",
      "Train loss at 28 epoch: 1.7523934127815277\n",
      "Train loss at 29 epoch: 1.7418560244472152\n"
     ]
    }
   ],
   "source": [
    "for epoch in range(30):\n",
    "    \n",
    "    train_loss_meter = AverageMeter()\n",
    "    \n",
    "    for texts, text_lengths in dataloader:\n",
    "        texts = texts.to(DEVICE)\n",
    "        \n",
    "        logits = model(texts[..., :-1]).transpose(-1, -2)\n",
    "        loss = criterion(logits, texts[..., 1:])\n",
    "        \n",
    "        optimizer.zero_grad()\n",
    "        loss.backward()\n",
    "        optimizer.step()\n",
    "        \n",
    "        train_loss_meter.update(loss.item())\n",
    "    \n",
    "    print(f'Train loss at {epoch} epoch: {train_loss_meter.avg}')"
   ]
  },
  {
   "cell_type": "code",
   "execution_count": 31,
   "metadata": {},
   "outputs": [],
   "source": [
    "def generate(prefix='<SOS>', max_length=12):\n",
    "#     prefix_sos = prefix[:len('<SOS>')]\n",
    "    prefix = prefix[len('<SOS>'):]\n",
    "    \n",
    "    indexes = [token2index['<SOS>']] + tokenizer(prefix)\n",
    "    indexes = torch.tensor(indexes)[None, :].long()\n",
    "    \n",
    "    while len(indexes[0]) <= max_length:\n",
    "        with torch.no_grad():\n",
    "            probs = torch.softmax(model(indexes)[0, -1], dim=0)\n",
    "\n",
    "            next_token_distr = torch.distributions.Categorical(probs=probs)\n",
    "            new_token = next_token_distr.sample().item()\n",
    "        \n",
    "        indexes = indexes.tolist()[0]\n",
    "        indexes.append(new_token)\n",
    "        indexes = torch.tensor(indexes)[None, :].long()\n",
    "        \n",
    "        if new_token == token2index['<EOS>']:\n",
    "            break\n",
    "    \n",
    "    return decoding(indexes.tolist()[0])"
   ]
  },
  {
   "cell_type": "code",
   "execution_count": 65,
   "metadata": {},
   "outputs": [
    {
     "data": {
      "text/plain": [
       "'<SOS>mashy<EOS>'"
      ]
     },
     "execution_count": 65,
     "metadata": {},
     "output_type": "execute_result"
    }
   ],
   "source": [
    "generate('<SOS>mash')"
   ]
  },
  {
   "cell_type": "code",
   "execution_count": null,
   "metadata": {},
   "outputs": [],
   "source": []
  }
 ],
 "metadata": {
  "colab": {
   "collapsed_sections": [],
   "name": "week05_generating_names_with_rnn.ipynb",
   "provenance": []
  },
  "kernelspec": {
   "display_name": "Python 3",
   "language": "python",
   "name": "python3"
  },
  "language_info": {
   "codemirror_mode": {
    "name": "ipython",
    "version": 3
   },
   "file_extension": ".py",
   "mimetype": "text/x-python",
   "name": "python",
   "nbconvert_exporter": "python",
   "pygments_lexer": "ipython3",
   "version": "3.8.5"
  }
 },
 "nbformat": 4,
 "nbformat_minor": 1
}
